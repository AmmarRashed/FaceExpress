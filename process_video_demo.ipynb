{
 "cells": [
  {
   "cell_type": "code",
   "execution_count": 1,
   "id": "e6b8aa4e",
   "metadata": {},
   "outputs": [],
   "source": [
    "import sys\n",
    "sys.path.append(\"src\")"
   ]
  },
  {
   "cell_type": "code",
   "execution_count": 2,
   "id": "17b41eca",
   "metadata": {},
   "outputs": [],
   "source": [
    "from imutils.video import FileVideoStream\n",
    "from tqdm import tqdm\n",
    "import pickle\n",
    "from facial_analysis import *\n",
    "from torch.utils.data import DataLoader, Dataset"
   ]
  },
  {
   "cell_type": "code",
   "execution_count": 3,
   "id": "90a6d175",
   "metadata": {},
   "outputs": [],
   "source": [
    "class MyDataset(Dataset):\n",
    "    def __init__(self, data):\n",
    "        self.data = data\n",
    "        \n",
    "    def __len__(self):\n",
    "        return len(self.data)\n",
    "\n",
    "    def __getitem__(self, idx):\n",
    "        return self.data[idx]"
   ]
  },
  {
   "cell_type": "code",
   "execution_count": 4,
   "id": "fc7807cc",
   "metadata": {},
   "outputs": [],
   "source": [
    "path = \"Engagement/FaceEngageDataset/u1/u1_00001.mp4\""
   ]
  },
  {
   "cell_type": "code",
   "execution_count": 5,
   "id": "9c4755fc",
   "metadata": {},
   "outputs": [],
   "source": [
    "video = FileVideoStream(path).start()\n",
    "\n",
    "frame_idx = []\n",
    "faces = []\n",
    "i = 0\n",
    "while True:\n",
    "    frame = video.read()\n",
    "    if frame is None:\n",
    "        break\n",
    "    face = detect_face(frame)\n",
    "    if face is not None:\n",
    "        faces.append(clean_face(face))\n",
    "        frame_idx.append(i)\n",
    "    i += 1\n",
    "\n",
    "results = {\"Emotions\": [], \"Valence\": [], \"Arousal\": []}\n",
    "faces_dataset = MyDataset(torch.stack(faces))\n",
    "faces_dataloader = DataLoader(faces_dataset, batch_size=16, shuffle=False)\n",
    "with torch.no_grad():\n",
    "    for batch in faces_dataloader:\n",
    "        out = net(batch)\n",
    "        expr = torch.softmax(out[\"expression\"], dim=-1)\n",
    "        results[\"Emotions\"].append(expr)\n",
    "        results[\"Valence\"].append(out[\"valence\"])\n",
    "        results[\"Arousal\"].append(out[\"arousal\"])\n",
    "\n",
    "for k, v in results.items():\n",
    "    results[k] = np.array(torch.cat(v).cpu())\n",
    "results[\"Frame Index\"] = frame_idx"
   ]
  },
  {
   "cell_type": "code",
   "execution_count": 6,
   "id": "19cb24c8",
   "metadata": {},
   "outputs": [
    {
     "data": {
      "text/plain": [
       "(264, (264, 8), (264,))"
      ]
     },
     "execution_count": 6,
     "metadata": {},
     "output_type": "execute_result"
    }
   ],
   "source": [
    "len(frame_idx), results[\"Emotions\"].shape, results[\"Valence\"].shape"
   ]
  },
  {
   "cell_type": "code",
   "execution_count": null,
   "id": "8bffde97",
   "metadata": {},
   "outputs": [],
   "source": []
  }
 ],
 "metadata": {
  "kernelspec": {
   "display_name": "Python 3 (ipykernel)",
   "language": "python",
   "name": "python3"
  },
  "language_info": {
   "codemirror_mode": {
    "name": "ipython",
    "version": 3
   },
   "file_extension": ".py",
   "mimetype": "text/x-python",
   "name": "python",
   "nbconvert_exporter": "python",
   "pygments_lexer": "ipython3",
   "version": "3.10.9"
  },
  "toc": {
   "base_numbering": 1,
   "nav_menu": {},
   "number_sections": true,
   "sideBar": true,
   "skip_h1_title": false,
   "title_cell": "Table of Contents",
   "title_sidebar": "Contents",
   "toc_cell": false,
   "toc_position": {},
   "toc_section_display": true,
   "toc_window_display": false
  }
 },
 "nbformat": 4,
 "nbformat_minor": 5
}
