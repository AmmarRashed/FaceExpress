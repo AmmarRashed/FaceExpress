{
 "cells": [
  {
   "cell_type": "code",
   "execution_count": 1,
   "id": "cfc8c7ff",
   "metadata": {
    "ExecuteTime": {
     "end_time": "2023-04-18T17:13:12.323447Z",
     "start_time": "2023-04-18T17:13:12.321926Z"
    }
   },
   "outputs": [],
   "source": [
    "import sys\n",
    "sys.path.append(\"src\")"
   ]
  },
  {
   "cell_type": "code",
   "execution_count": 2,
   "id": "434c491a",
   "metadata": {
    "ExecuteTime": {
     "end_time": "2023-04-18T17:13:13.988486Z",
     "start_time": "2023-04-18T17:13:12.324205Z"
    }
   },
   "outputs": [],
   "source": [
    "from imutils.video import FileVideoStream\n",
    "from tqdm import tqdm\n",
    "import pickle\n",
    "from facial_analysis import *\n",
    "from torch.utils.data import DataLoader, Dataset"
   ]
  },
  {
   "cell_type": "code",
   "execution_count": 3,
   "id": "8fbeeb72",
   "metadata": {
    "ExecuteTime": {
     "end_time": "2023-04-18T17:13:13.992030Z",
     "start_time": "2023-04-18T17:13:13.990009Z"
    }
   },
   "outputs": [],
   "source": [
    "path = \"Engagement/FaceEngageDataset/u1/u1_00001.mp4\""
   ]
  },
  {
   "cell_type": "code",
   "execution_count": 4,
   "id": "1e45a55f",
   "metadata": {
    "ExecuteTime": {
     "end_time": "2023-04-18T17:13:20.337846Z",
     "start_time": "2023-04-18T17:13:13.994027Z"
    }
   },
   "outputs": [],
   "source": [
    "video = FileVideoStream(path).start()\n",
    "\n",
    "batch_size = 128\n",
    "\n",
    "frame_idx = []\n",
    "i = 0\n",
    "results = {\"Emotions\": [], \"Valence\": [], \"Arousal\": []}\n",
    "\n",
    "def process_batch(faces):\n",
    "    global results\n",
    "    with torch.no_grad():\n",
    "        out = net(faces)\n",
    "        expr = torch.softmax(out[\"expression\"], dim=-1)\n",
    "        results[\"Emotions\"].append(expr)\n",
    "        results[\"Valence\"].append(out[\"valence\"])\n",
    "        results[\"Arousal\"].append(out[\"arousal\"])\n",
    "        \n",
    "faces = []\n",
    "while True:\n",
    "    frame = video.read()\n",
    "    if frame is None:\n",
    "        break\n",
    "    face = detect_face(frame)\n",
    "    if face is not None:\n",
    "        faces.append(clean_face(face))\n",
    "        frame_idx.append(i)\n",
    "        if len(faces) == batch_size:\n",
    "            process_batch(torch.stack(faces))\n",
    "            faces = []\n",
    "    i += 1\n",
    "\n",
    "if len(faces):\n",
    "    process_batch(torch.stack(faces))\n",
    "\n",
    "for k, v in results.items():\n",
    "    results[k] = np.array(torch.cat(v).cpu())\n",
    "results[\"Frame Index\"] = frame_idx"
   ]
  },
  {
   "cell_type": "code",
   "execution_count": 5,
   "id": "6d21214c",
   "metadata": {
    "ExecuteTime": {
     "end_time": "2023-04-18T17:13:20.343172Z",
     "start_time": "2023-04-18T17:13:20.338886Z"
    }
   },
   "outputs": [
    {
     "data": {
      "text/plain": [
       "(264, (264, 8), (264,))"
      ]
     },
     "execution_count": 5,
     "metadata": {},
     "output_type": "execute_result"
    }
   ],
   "source": [
    "len(frame_idx), results[\"Emotions\"].shape, results[\"Valence\"].shape"
   ]
  },
  {
   "cell_type": "code",
   "execution_count": null,
   "id": "264b6283",
   "metadata": {},
   "outputs": [],
   "source": []
  }
 ],
 "metadata": {
  "kernelspec": {
   "display_name": "Python 3 (ipykernel)",
   "language": "python",
   "name": "python3"
  },
  "language_info": {
   "codemirror_mode": {
    "name": "ipython",
    "version": 3
   },
   "file_extension": ".py",
   "mimetype": "text/x-python",
   "name": "python",
   "nbconvert_exporter": "python",
   "pygments_lexer": "ipython3",
   "version": "3.10.9"
  },
  "toc": {
   "base_numbering": 1,
   "nav_menu": {},
   "number_sections": true,
   "sideBar": true,
   "skip_h1_title": false,
   "title_cell": "Table of Contents",
   "title_sidebar": "Contents",
   "toc_cell": false,
   "toc_position": {},
   "toc_section_display": true,
   "toc_window_display": false
  }
 },
 "nbformat": 4,
 "nbformat_minor": 5
}
